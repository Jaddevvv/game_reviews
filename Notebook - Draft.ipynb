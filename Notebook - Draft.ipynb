{
 "cells": [
  {
   "cell_type": "code",
   "execution_count": null,
   "metadata": {},
   "outputs": [],
   "source": [
    "import pandas as pd"
   ]
  },
  {
   "cell_type": "code",
   "execution_count": null,
   "metadata": {},
   "outputs": [],
   "source": [
    "df = pd.read_csv('video_game_reviews.csv')\n",
    "df\n"
   ]
  },
  {
   "cell_type": "markdown",
   "metadata": {},
   "source": [
    "## 1. Indentify the dataset\n",
    "\n",
    "- **What is represented in every line ?**\n",
    "- Who is the provider ? if you can, present him briefly.\n",
    "- How the data has been collected ?\n",
    "- What is represented in every column ? unique or not ?\n",
    "- Does the dataset represent full \"population\" ? Or just a sample ? if it's a subset, what are the selection criterias ? time window ? Filter ?\n",
    "\n",
    "By answering this question first you will spare time, and , above all, you will spare yourself the pitfall of asking the wrong answer, and making false affirmations.\n"
   ]
  },
  {
   "cell_type": "markdown",
   "metadata": {},
   "source": [
    "1. We have 47774 ratings of ratings of different popular video games \n",
    "2. We got the dataset from Kaggle\n",
    "3. The data has been randomly generated\n",
    "4. We have 18 unique columns : \n",
    "    - The title of the game \n",
    "    - User rating\n",
    "    - Price ...\n",
    "5. A sample of players that reviewed games"
   ]
  },
  {
   "cell_type": "markdown",
   "metadata": {},
   "source": [
    "## 2. Identify your audience :\n",
    "\n",
    "Sales rep ?\n",
    "Developer ?\n",
    "C-level ?\n",
    "Shareholder ?\n",
    "\n",
    "Tailor your pitch to their needs , and level of comprehension.\n",
    "\n",
    "When you are presenting your results, most of the time, you must use non technical language, except if the audience is technical. It's part of your job to adapt your work to your audience.\n",
    "\n"
   ]
  },
  {
   "cell_type": "markdown",
   "metadata": {},
   "source": [
    "the audience is C-level executives who need strategic insights into user behavior and market trends in gaming. They likely aren't interested in technical details but want actionable insights and clear value propositions. "
   ]
  },
  {
   "cell_type": "markdown",
   "metadata": {},
   "source": [
    "## 3. The problem we Try to solve"
   ]
  },
  {
   "cell_type": "markdown",
   "metadata": {},
   "source": [
    "The primary problem we’re addressing is identifying key factors that influence user ratings and satisfaction with video games. "
   ]
  },
  {
   "cell_type": "markdown",
   "metadata": {},
   "source": [
    "## 4. Analysis"
   ]
  },
  {
   "cell_type": "code",
   "execution_count": null,
   "metadata": {},
   "outputs": [],
   "source": [
    "df"
   ]
  },
  {
   "cell_type": "code",
   "execution_count": null,
   "metadata": {},
   "outputs": [],
   "source": [
    "df.info()"
   ]
  },
  {
   "cell_type": "code",
   "execution_count": null,
   "metadata": {},
   "outputs": [],
   "source": [
    "df.describe()"
   ]
  },
  {
   "cell_type": "markdown",
   "metadata": {},
   "source": [
    "On trie les developpeurs en fonction des ratings moyens"
   ]
  },
  {
   "cell_type": "code",
   "execution_count": null,
   "metadata": {},
   "outputs": [],
   "source": [
    "df.groupby(\"Developer\")[\"User Rating\"].mean().sort_values(ascending=False)"
   ]
  },
  {
   "cell_type": "markdown",
   "metadata": {},
   "source": [
    "On trie les plateformes en fonction des ratings moyens"
   ]
  },
  {
   "cell_type": "code",
   "execution_count": null,
   "metadata": {},
   "outputs": [],
   "source": [
    "df.groupby(\"Platform\")[\"User Rating\"].mean().sort_values(ascending=False)"
   ]
  },
  {
   "cell_type": "markdown",
   "metadata": {},
   "source": [
    "On trie les plateformes en fonction des ratings moyens "
   ]
  },
  {
   "cell_type": "code",
   "execution_count": null,
   "metadata": {},
   "outputs": [],
   "source": [
    "df.groupby(\"Genre\")[\"User Rating\"].mean().sort_values(ascending=False)"
   ]
  },
  {
   "cell_type": "code",
   "execution_count": null,
   "metadata": {},
   "outputs": [],
   "source": []
  }
 ],
 "metadata": {
  "kernelspec": {
   "display_name": "Python 3",
   "language": "python",
   "name": "python3"
  },
  "language_info": {
   "codemirror_mode": {
    "name": "ipython",
    "version": 3
   },
   "file_extension": ".py",
   "mimetype": "text/x-python",
   "name": "python",
   "nbconvert_exporter": "python",
   "pygments_lexer": "ipython3",
   "version": "3.13.0"
  }
 },
 "nbformat": 4,
 "nbformat_minor": 2
}
