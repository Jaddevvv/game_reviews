{
 "cells": [
  {
   "cell_type": "markdown",
   "metadata": {},
   "source": [
    "1. Identify your data \n",
    "What is represented in every line ?\n",
    "Who is the provider ? if you can, present him briefly.\n",
    "How the data has been collected ?\n",
    "What is represented in every column ? unique or not ?\n",
    "Does the dataset represent full \"population\" ? Or just a sample ? if it's a subset, what are the selection criterias ? time window ? Filter ?\n",
    "By answering this question first you will spare time, and , above all, you will spare yourself the pitfall of asking the wrong answer, and making false affirmations.\n",
    "\n",
    "2. Identify your audience :\n",
    "Sales rep ? Developer ? C-level ? Shareholder ?\n",
    "Student eager to learn\n",
    "Tailor your pitch to their needs , and level of comprehension.\n",
    "OK we will focus on the correlation between the type of game and the interest it arouses in players\n",
    "When you are presenting your results, most of the time, you must use non technical language, except if the audience is technical. It's part of your job to adapt your work to your audience.\n",
    "ok\n",
    "2. Identify the problem you are solving.\n",
    "Tease your audience, so that the WANT to know the results of your analysis.\n",
    "we are not solving a problem. By sharing the datza we want \n",
    "3. Don't do a pandas/maths showcase.\n",
    "These are tools, at the service of what you want to prove / teach / say. All your outputs must prove something.\n",
    "ok\n",
    "4. BE INTERESTING !\n",
    "Your audience will never get bored if they can come out of the meeting more knowledgeable than when they came in.\n",
    "okk"
   ]
  },
  {
   "cell_type": "markdown",
   "metadata": {},
   "source": [
    "test"
   ]
  },
  {
   "cell_type": "code",
   "execution_count": 1,
   "metadata": {},
   "outputs": [
    {
     "name": "stdout",
     "output_type": "stream",
     "text": [
      "yes\n"
     ]
    }
   ],
   "source": [
    "print(\"yes\")"
   ]
  }
 ],
 "metadata": {
  "kernelspec": {
   "display_name": "Python 3",
   "language": "python",
   "name": "python3"
  },
  "language_info": {
   "codemirror_mode": {
    "name": "ipython",
    "version": 3
   },
   "file_extension": ".py",
   "mimetype": "text/x-python",
   "name": "python",
   "nbconvert_exporter": "python",
   "pygments_lexer": "ipython3",
   "version": "3.11.9"
  }
 },
 "nbformat": 4,
 "nbformat_minor": 2
}

{
 "cells": [
  {
   "cell_type": "code",
   "execution_count": 1,
   "metadata": {},
   "outputs": [
    {
     "name": "stdout",
     "output_type": "stream",
     "text": [
      "SALUT\n"
     ]
    }
   ],
   "source": [
    "print(\"SALUT\")"
   ]
  }
 ],
 "metadata": {
  "kernelspec": {
   "display_name": "Python 3",
   "language": "python",
   "name": "python3"
  },
  "language_info": {
   "codemirror_mode": {
    "name": "ipython",
    "version": 3
   },
   "file_extension": ".py",
   "mimetype": "text/x-python",
   "name": "python",
   "nbconvert_exporter": "python",
   "pygments_lexer": "ipython3",
   "version": "3.12.4"
  }
 },
 "nbformat": 4,
 "nbformat_minor": 2
}
