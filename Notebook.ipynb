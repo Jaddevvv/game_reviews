{
 "cells": [
  {
   "cell_type": "code",
   "execution_count": null,
   "metadata": {},
   "outputs": [],
   "source": [
    "%pip install pandas\n",
    "%pip install plotly\n",
    "%pip install nbfornmat\n",
    "%pip install nbstripout"
   ]
  },
  {
   "cell_type": "code",
   "execution_count": null,
   "metadata": {},
   "outputs": [],
   "source": [
    "import pandas as pd"
   ]
  },
  {
   "cell_type": "code",
   "execution_count": null,
   "metadata": {},
   "outputs": [],
   "source": [
    "df = pd.read_csv('video_game_reviews.csv')\n",
    "df\n"
   ]
  },
  {
   "cell_type": "markdown",
   "metadata": {},
   "source": [
    "## 1. Indentify the dataset\n",
    "\n",
    "- **What is represented in every line ?**\n",
    "- Who is the provider ? if you can, present him briefly.\n",
    "- How the data has been collected ?\n",
    "- What is represented in every column ? unique or not ?\n",
    "- Does the dataset represent full \"population\" ? Or just a sample ? if it's a subset, what are the selection criterias ? time window ? Filter ?\n",
    "\n",
    "By answering this question first you will spare time, and , above all, you will spare yourself the pitfall of asking the wrong answer, and making false affirmations.\n"
   ]
  },
  {
   "cell_type": "markdown",
   "metadata": {},
   "source": [
    "1. We have 47774 rows of popular video games that have been rated by the users we also have a description of these games\n",
    "2. We got the dataset from Kaggle\n",
    "3. We dont know\n",
    "4. We have 18 unique columns : \n",
    "    - The title of the game \n",
    "    - User rating .....\n",
    "5. A sample of players"
   ]
  },
  {
   "cell_type": "markdown",
   "metadata": {},
   "source": [
    "## 2. Identify your audience :\n",
    "\n",
    "Sales rep ?\n",
    "Developer ?\n",
    "C-level ?\n",
    "Shareholder ?\n",
    "\n",
    "Tailor your pitch to their needs , and level of comprehension.\n",
    "\n",
    "When you are presenting your results, most of the time, you must use non technical language, except if the audience is technical. It's part of your job to adapt your work to your audience.\n",
    "\n"
   ]
  },
  {
   "cell_type": "markdown",
   "metadata": {},
   "source": [
    "## 3. The problem we Try to solve"
   ]
  },
  {
   "cell_type": "markdown",
   "metadata": {},
   "source": [
    "What could explain a better rating from users"
   ]
  },
  {
   "cell_type": "markdown",
   "metadata": {},
   "source": [
    "## 4. Analysis"
   ]
  },
  {
   "cell_type": "code",
   "execution_count": null,
   "metadata": {},
   "outputs": [],
   "source": [
    "df"
   ]
  },
  {
   "cell_type": "code",
   "execution_count": null,
   "metadata": {},
   "outputs": [],
   "source": [
    "df.info()"
   ]
  },
  {
   "cell_type": "markdown",
   "metadata": {},
   "source": [
    "# Cleaning the data"
   ]
  },
  {
   "cell_type": "code",
   "execution_count": null,
   "metadata": {},
   "outputs": [],
   "source": [
    "df[\"User Rating\"].value_counts()\n",
    "\n",
    "# Be sure there are only Yes and No values in the column\n",
    "df[\"Requires Special Device\"].value_counts()\n"
   ]
  },
  {
   "cell_type": "markdown",
   "metadata": {},
   "source": [
    "# Find the best Gaming Studio company based on user ratings"
   ]
  },
  {
   "cell_type": "code",
   "execution_count": null,
   "metadata": {},
   "outputs": [],
   "source": [
    "df.groupby(\"Developer\")[\"User Rating\"].mean().sort_values(ascending=False)"
   ]
  },
  {
   "cell_type": "markdown",
   "metadata": {},
   "source": [
    "# Do users like more single player games or multiplayer games"
   ]
  },
  {
   "cell_type": "code",
   "execution_count": null,
   "metadata": {},
   "outputs": [],
   "source": [
    "df.groupby(\"Multiplayer\")[\"User Rating\"].mean().sort_values(ascending=False)\n",
    "#We can see by checking the output that there's no significant difference"
   ]
  },
  {
   "cell_type": "code",
   "execution_count": null,
   "metadata": {},
   "outputs": [],
   "source": [
    "# TIME TO DO THE SAME THING FOR GAME MODES OFFLINE AND ONLINE\n",
    "df.groupby(\"Game Mode\")[\"User Rating\"].mean().sort_values(ascending=False)\n",
    "#Users care even else about the game mode"
   ]
  },
  {
   "cell_type": "code",
   "execution_count": null,
   "metadata": {},
   "outputs": [],
   "source": [
    "# Same thing for the genre\n",
    "df.groupby(\"Genre\")[\"User Rating\"].mean().sort_values(ascending=False)\n",
    "#Party genre is the most popular game, top 2 will be fighting and top 3 will be RPG"
   ]
  },
  {
   "cell_type": "code",
   "execution_count": null,
   "metadata": {},
   "outputs": [],
   "source": [
    "df.groupby(\"Platform\")[\"User Rating\"].mean().sort_values(ascending=False)\n",
    "#Users like more Gaming platforms"
   ]
  },
  {
   "cell_type": "code",
   "execution_count": null,
   "metadata": {},
   "outputs": [],
   "source": [
    "df.groupby(\"Release Year\")[\"User Rating\"].mean().sort_values(ascending=False)\n",
    "# 2011 games were the most successful\n"
   ]
  },
  {
   "cell_type": "markdown",
   "metadata": {},
   "source": [
    "# Do teens prefer long games or Short games"
   ]
  },
  {
   "cell_type": "code",
   "execution_count": null,
   "metadata": {},
   "outputs": [],
   "source": [
    "df[(df[\"Game Mode\"]==\"Offline\") & (df['Age Group Targeted']==\"Teens\")].groupby(\"Game Length (Hours)\")[\"User Rating\"].mean().sort_values(ascending=False)\n",
    "# Teens prefer long games of 50 hours +"
   ]
  },
  {
   "cell_type": "markdown",
   "metadata": {},
   "source": [
    "# What about kids and adults ?\n"
   ]
  },
  {
   "cell_type": "code",
   "execution_count": null,
   "metadata": {},
   "outputs": [],
   "source": [
    "df[(df[\"Game Mode\"]==\"Offline\") & (df['Age Group Targeted']==\"Kids\")].groupby(\"Game Length (Hours)\")[\"User Rating\"].mean().sort_values(ascending=False)\n",
    "# Kids prefer long games of approx 40 hours +\n",
    "\n",
    "df[(df[\"Game Mode\"]==\"Offline\") & (df['Age Group Targeted']==\"Adults\")].groupby(\"Game Length (Hours)\")[\"User Rating\"].mean().sort_values(ascending=False)\n",
    "# Adults prefer long games of 50 hours +\n"
   ]
  },
  {
   "cell_type": "markdown",
   "metadata": {},
   "source": [
    "# Who plays the most Low Graphics games"
   ]
  },
  {
   "cell_type": "code",
   "execution_count": null,
   "metadata": {},
   "outputs": [],
   "source": [
    "df[df['Graphics Quality'] == 'Low'].groupby(\"Age Group Targeted\").size().sort_values(ascending=False)\n",
    "# Not much big difference between the age groups"
   ]
  }
 ],
 "metadata": {
  "kernelspec": {
   "display_name": "Python 3",
   "language": "python",
   "name": "python3"
  },
  "language_info": {
   "codemirror_mode": {
    "name": "ipython",
    "version": 3
   },
   "file_extension": ".py",
   "mimetype": "text/x-python",
   "name": "python",
   "nbconvert_exporter": "python",
   "pygments_lexer": "ipython3",
   "version": "3.12.4"
  }
 },
 "nbformat": 4,
 "nbformat_minor": 2
}
